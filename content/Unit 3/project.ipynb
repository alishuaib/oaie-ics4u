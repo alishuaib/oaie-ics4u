{
 "cells": [
  {
   "cell_type": "markdown",
   "metadata": {},
   "source": [
    "# Project: Inventory Management System\n",
    "This project will be divided in two parts. Modular Design and Algorithm Analysis.\n",
    "\n",
    "## Part 1: Modular Design\n",
    "Follow along with the guided tutorials in Unit 3.1 to create a simple inventory management system in python using the specifications below. This is a graded project so be sure to complete and submit all deliverables.\n",
    "\n",
    "## Part 2: Algorithm Analysis\n",
    "Afterwards follow the guided tutorial in Unit 3.2 Activity to implement search and sort algorithms in python, you will also analyze the performance of these algorithms. This is also a graded so be sure to submit it separately.\n",
    "\n",
    "You will be graded on the following:\n",
    "- Project completion for Part 1\n",
    "- Project completion for Part 2\n",
    "- Two page report on modular design principles used and algorithm analysis conclusions.\n",
    "\n",
    "<details>\n",
    "<summary>💡 General Guide for Activities</summary>\n",
    "\n",
    "In this activity, you will solve a series of problems that involve using different data types and expressions in Python.\n",
    "\n",
    "Each problem will have a description, code cell and expected output.\n",
    "- Description: This will explain the task you need to perform.\n",
    "- Code cell: This is where you should write your solution.\n",
    "- Expected output: This will show the expected output that your code should produce if it is correct.\n",
    "\n",
    "If you get stuck, try clicking the Hint dropdown menu for some guidance. Remember to try solving the problem yourself.\n",
    "\n",
    "</details>\n",
    "<br>\n",
    "\n",
    "___"
   ]
  },
  {
   "cell_type": "markdown",
   "metadata": {},
   "source": [
    "## Part 1: Inventory Management System\n",
    "\n",
    "You have been tasked with building a simple restaurant inventory management system. The following specifications must be met.\n",
    "- Store inventory items in a JSON file.\n",
    "- Recall inventory items from the JSON file on program start.\n",
    "- Add new items to inventory, items should have a name, price, quantity, category and optionally a expiration date.\n",
    "- Provide methods to add, remove, update inventory\n",
    "\n",
    "Your code should be modular and follow the following structure for classes:\n",
    "```python\n",
    "class Inventory:\n",
    "    # Main class for managing all inventory items along with read/write operations\n",
    "\n",
    "class Item:\n",
    "    # Class for individual inventory items\n",
    "\n",
    "if __name__ == \"__main__\": #This is just checks if program is being run directly or imported as a library.\n",
    "    # Main program loop\n",
    "```"
   ]
  },
  {
   "cell_type": "code",
   "execution_count": null,
   "metadata": {
    "vscode": {
     "languageId": "plaintext"
    }
   },
   "outputs": [],
   "source": []
  },
  {
   "cell_type": "markdown",
   "metadata": {},
   "source": [
    "## Part 2: Sort and Search Algorithms\n",
    "\n",
    "Building on the code from Part 1, you will implement the following search and sort algorithms:\n",
    "- Linear Search\n",
    "- Binary Search\n",
    "- Bubble Sort\n",
    "- Merge Sort\n",
    "\n",
    "Add methods to the Inventory class to perform these operations on inventory items.\n",
    "Your code should use the `timeit` library to measure the performance of these algorithms.\n",
    "\n",
    "Once complete, write a two page report on the modular design principles used and the conclusions from the algorithm analysis.\n",
    "\n",
    "Download and submit the code with your report on Brightspace D2L.\n",
    "\n",
    "```python\n",
    "class Inventory:\n",
    "    # Main class for managing all inventory items along with read/write operations\n",
    "\n",
    "class Item:\n",
    "    # Class for individual inventory items\n",
    "\n",
    "if __name__ == \"__main__\": #This is just checks if program is being run directly or imported as a library.\n",
    "    # Main program loop\n",
    "```"
   ]
  }
 ],
 "metadata": {
  "language_info": {
   "name": "python"
  }
 },
 "nbformat": 4,
 "nbformat_minor": 2
}
