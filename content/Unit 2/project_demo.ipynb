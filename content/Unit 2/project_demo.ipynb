{
 "cells": [
  {
   "cell_type": "code",
   "execution_count": 1,
   "metadata": {},
   "outputs": [
    {
     "name": "stdout",
     "output_type": "stream",
     "text": [
      "Requirement already satisfied: ipywidgets in c:\\python311\\lib\\site-packages (8.1.2)\n",
      "Requirement already satisfied: comm>=0.1.3 in c:\\users\\ali\\appdata\\roaming\\python\\python311\\site-packages (from ipywidgets) (0.2.1)\n",
      "Requirement already satisfied: ipython>=6.1.0 in c:\\users\\ali\\appdata\\roaming\\python\\python311\\site-packages (from ipywidgets) (8.20.0)\n",
      "Requirement already satisfied: traitlets>=4.3.1 in c:\\users\\ali\\appdata\\roaming\\python\\python311\\site-packages (from ipywidgets) (5.14.1)\n",
      "Requirement already satisfied: widgetsnbextension~=4.0.10 in c:\\python311\\lib\\site-packages (from ipywidgets) (4.0.10)\n",
      "Requirement already satisfied: jupyterlab-widgets~=3.0.10 in c:\\python311\\lib\\site-packages (from ipywidgets) (3.0.10)\n",
      "Requirement already satisfied: decorator in c:\\users\\ali\\appdata\\roaming\\python\\python311\\site-packages (from ipython>=6.1.0->ipywidgets) (5.1.1)\n",
      "Requirement already satisfied: jedi>=0.16 in c:\\users\\ali\\appdata\\roaming\\python\\python311\\site-packages (from ipython>=6.1.0->ipywidgets) (0.19.1)\n",
      "Requirement already satisfied: matplotlib-inline in c:\\users\\ali\\appdata\\roaming\\python\\python311\\site-packages (from ipython>=6.1.0->ipywidgets) (0.1.6)\n",
      "Requirement already satisfied: prompt-toolkit<3.1.0,>=3.0.41 in c:\\users\\ali\\appdata\\roaming\\python\\python311\\site-packages (from ipython>=6.1.0->ipywidgets) (3.0.43)\n",
      "Requirement already satisfied: pygments>=2.4.0 in c:\\users\\ali\\appdata\\roaming\\python\\python311\\site-packages (from ipython>=6.1.0->ipywidgets) (2.17.2)\n",
      "Requirement already satisfied: stack-data in c:\\users\\ali\\appdata\\roaming\\python\\python311\\site-packages (from ipython>=6.1.0->ipywidgets) (0.6.3)\n",
      "Requirement already satisfied: colorama in c:\\users\\ali\\appdata\\roaming\\python\\python311\\site-packages (from ipython>=6.1.0->ipywidgets) (0.4.6)\n",
      "Requirement already satisfied: parso<0.9.0,>=0.8.3 in c:\\users\\ali\\appdata\\roaming\\python\\python311\\site-packages (from jedi>=0.16->ipython>=6.1.0->ipywidgets) (0.8.3)\n",
      "Requirement already satisfied: wcwidth in c:\\users\\ali\\appdata\\roaming\\python\\python311\\site-packages (from prompt-toolkit<3.1.0,>=3.0.41->ipython>=6.1.0->ipywidgets) (0.2.13)\n",
      "Requirement already satisfied: executing>=1.2.0 in c:\\users\\ali\\appdata\\roaming\\python\\python311\\site-packages (from stack-data->ipython>=6.1.0->ipywidgets) (2.0.1)\n",
      "Requirement already satisfied: asttokens>=2.1.0 in c:\\users\\ali\\appdata\\roaming\\python\\python311\\site-packages (from stack-data->ipython>=6.1.0->ipywidgets) (2.4.1)\n",
      "Requirement already satisfied: pure-eval in c:\\users\\ali\\appdata\\roaming\\python\\python311\\site-packages (from stack-data->ipython>=6.1.0->ipywidgets) (0.2.2)\n",
      "Requirement already satisfied: six>=1.12.0 in c:\\users\\ali\\appdata\\roaming\\python\\python311\\site-packages (from asttokens>=2.1.0->stack-data->ipython>=6.1.0->ipywidgets) (1.16.0)\n",
      "Note: you may need to restart the kernel to use updated packages.\n"
     ]
    },
    {
     "name": "stderr",
     "output_type": "stream",
     "text": [
      "\n",
      "[notice] A new release of pip is available: 23.2.1 -> 24.0\n",
      "[notice] To update, run: python.exe -m pip install --upgrade pip\n"
     ]
    },
    {
     "name": "stdout",
     "output_type": "stream",
     "text": [
      "Requirement already satisfied: pillow in c:\\python311\\lib\\site-packages (10.3.0)\n",
      "Note: you may need to restart the kernel to use updated packages.\n"
     ]
    },
    {
     "name": "stderr",
     "output_type": "stream",
     "text": [
      "\n",
      "[notice] A new release of pip is available: 23.2.1 -> 24.0\n",
      "[notice] To update, run: python.exe -m pip install --upgrade pip\n"
     ]
    },
    {
     "data": {
      "text/html": [
       "<style>\n",
       ".parent {\n",
       "    position: relative;\n",
       "    width: 100%;\n",
       "    height: 100%;\n",
       "    max-width: 800px;\n",
       "    display: flex;\n",
       "    flex-direction: column;\n",
       "    align-items: center;\n",
       "    padding: 20px;\n",
       "    margin-left: auto;\n",
       "    margin-right: auto;\n",
       "    overflow: hidden;\n",
       "}\n",
       ".parent_bg {\n",
       "    position: absolute;\n",
       "    width: 100%;\n",
       "    height: 100%;\n",
       "}\n",
       ".view_box {    \n",
       "    box-sizing: content-box;\n",
       "    border: 2px solid black;\n",
       "    background-color: black;\n",
       "    display: grid;\n",
       "    grid-template-columns: auto;\n",
       "    grid-template-rows: auto;\n",
       "    width: fit-content;\n",
       "    min-width: 480px;\n",
       "    min-height: 270px;\n",
       "    max-width: 480px;\n",
       "    max-height: 270px;\n",
       "    overflow: hidden;\n",
       "}\n",
       ".bg_stack{\n",
       "    grid-column: 1;\n",
       "\tgrid-row: 1;\n",
       "}\n",
       ".bg {    \n",
       "    width: 100%;\n",
       "    height: 100%;\n",
       "    max-width: 475px;\n",
       "    max-height: 265px;\n",
       "}\n",
       ".sprite_box {\n",
       "    grid-column: 1;\n",
       "\tgrid-row: 1;\n",
       "    display: flex;\n",
       "    width:100%;\n",
       "    height:100%;\n",
       "    align-items: flex-end;\n",
       "    justify-content: space-between;\n",
       "    padding: 10px 40px 10px 40px;\n",
       "}\n",
       ".btn_box {\n",
       "    display: flex;\n",
       "    justify-content: center;\n",
       "    gap: 10px;\n",
       "    margin: 10px;\n",
       "}\n",
       ".ui_box {\n",
       "    display: flex;\n",
       "    width: 100%;\n",
       "    margin: 10px;\n",
       "    justify-content: space-between;\n",
       "    gap: 5px;    \n",
       "    font-weight: bold;\n",
       "}\n",
       ".ui_health {\n",
       "}\n",
       ".ui_label {\n",
       "    width: 2em;\n",
       "}\n",
       ".ui_enemy {\n",
       "}\n",
       ".ui_meter_stack{\n",
       "    width: fit-content;\n",
       "}\n",
       ".ui_meter{\n",
       "    align-items: center;\n",
       "    overflow: hidden;\n",
       "}\n",
       ".stage {\n",
       "    position: relative;\n",
       "    width:24px;\n",
       "    height:32px;\n",
       "}\n",
       ".stage::before {\n",
       "    content: \"\";\n",
       "    width: 8px;\n",
       "    height: 8px;\n",
       "    border-radius: 20px;\n",
       "    background-color: black;\n",
       "    position: absolute;\n",
       "    bottom: 0;\n",
       "    left: 50%;\n",
       "    opacity: 0.25;\n",
       "}\n",
       ".stage_stack {    \n",
       "    width: 150px;\n",
       "    bottom: 15px;\n",
       "    justify-content: center;\n",
       "}\n",
       ".debug {\n",
       "    border: 1px dashed red;\n",
       "}\n",
       ".ani_container {    \n",
       "    display: flex;\n",
       "    justify-content: center;\n",
       "    align-items: center;\n",
       "    overflow: hidden;\n",
       "    position: relative;\n",
       "    left: 0;\n",
       "    transition: left 0.2s;\n",
       "}\n",
       ".enemy_stack {\n",
       "    overflow:visible;\n",
       "}\n",
       "@keyframes bounceRight {\n",
       "    0% {transform: translateX(0);}\n",
       "    50% {transform: translateX(+100px);}\n",
       "    100% {transform: translateX(0);}\n",
       "}\n",
       ".bounce_right {    \n",
       "    animation: bounceRight 1s ;\n",
       "}\n",
       "@keyframes bounceLeft {\n",
       "    0% {transform: translateX(0);}\n",
       "    50% {transform: translateX(-100px);}\n",
       "    100% {transform: translateX(0);}\n",
       "}\n",
       ".bounce_left {    \n",
       "    animation: bounceLeft 1s ;\n",
       "}\n",
       ".stage_label {\n",
       "    font-size: 1.5em;\n",
       "    font-weight: bold;\n",
       "    color: black;\n",
       "}\n",
       "</style>"
      ],
      "text/plain": [
       "<IPython.core.display.HTML object>"
      ]
     },
     "metadata": {},
     "output_type": "display_data"
    },
    {
     "data": {
      "application/vnd.jupyter.widget-view+json": {
       "model_id": "9e7cefc977dc4e39b2d966309dcdeacb",
       "version_major": 2,
       "version_minor": 0
      },
      "text/plain": [
       "Box(children=(Image(value=b'\\x89PNG\\r\\n\\x1a\\n\\x00\\x00\\x00\\rIHDR\\x00\\x00\\x03\\x00\\x00\\x00\\x020\\x08\\x06\\x00\\x00\\x…"
      ]
     },
     "metadata": {},
     "output_type": "display_data"
    },
    {
     "data": {
      "application/vnd.jupyter.widget-view+json": {
       "model_id": "f3e60d9c4b794c488087540a71fad91d",
       "version_major": 2,
       "version_minor": 0
      },
      "text/plain": [
       "Output()"
      ]
     },
     "metadata": {},
     "output_type": "display_data"
    }
   ],
   "source": [
    "# Download dependencies\n",
    "%pip install ipywidgets\n",
    "%pip install pillow\n",
    "from render import show_demo\n",
    "show_demo()"
   ]
  }
 ],
 "metadata": {
  "kernelspec": {
   "display_name": "Python 3",
   "language": "python",
   "name": "python3"
  },
  "language_info": {
   "codemirror_mode": {
    "name": "ipython",
    "version": 3
   },
   "file_extension": ".py",
   "mimetype": "text/x-python",
   "name": "python",
   "nbconvert_exporter": "python",
   "pygments_lexer": "ipython3",
   "version": "3.11.5"
  }
 },
 "nbformat": 4,
 "nbformat_minor": 2
}
