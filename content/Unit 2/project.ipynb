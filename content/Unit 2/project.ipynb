{
 "cells": [
  {
   "cell_type": "code",
   "execution_count": null,
   "metadata": {},
   "outputs": [],
   "source": [
    "import ipywidgets as widgets\n",
    "from IPython.display import display , HTML"
   ]
  },
  {
   "cell_type": "code",
   "execution_count": null,
   "metadata": {},
   "outputs": [],
   "source": [
    "# Sample image URLs (replace with your own images)\n",
    "background_url = \"assets/bg.jpg\"\n",
    "character_url = \"assets/char.gif\"\n",
    "enemy_url = \"assets/enemy.gif\"\n",
    "\n",
    "# Create widgets\n",
    "background = widgets.Image(value=open(background_url, 'rb').read())\n",
    "character = widgets.Image(value=open(character_url, 'rb').read(),width=300,\n",
    "    height=400,)\n",
    "enemy = widgets.Image(value=open(enemy_url, 'rb').read(),width=300,\n",
    "    height=400,)\n",
    "\n",
    "# CSS for positioning and z-index\n",
    "css = \"\"\"\n",
    ".background-image {\n",
    "    position: absolute;\n",
    "    top: 0;\n",
    "    left: 0;\n",
    "    z-index: 1;  /* Lower z-index means behind */\n",
    "}\n",
    ".foreground-image {\n",
    "    position: absolute;\n",
    "    top: 0;\n",
    "    left: 0;\n",
    "    z-index: 2;  /* Higher z-index means in front */\n",
    "}\n",
    "\"\"\"\n",
    "display(HTML(css))  # Inject the CSS\n",
    "\n",
    "background.add_class('background-image') \n",
    "character.add_class('foreground-image')\n",
    "enemy.add_class('foreground-image')\n",
    "\n",
    "# Foreground arrangement (use HBox for horizontal)\n",
    "foreground = widgets.HBox([character, enemy]) \n",
    "\n",
    "# Overlay the images\n",
    "layout = widgets.VBox([background, foreground])\n",
    "display(layout)\n"
   ]
  },
  {
   "cell_type": "code",
   "execution_count": null,
   "metadata": {},
   "outputs": [],
   "source": [
    "\n",
    "\n",
    "# Progress Bar\n",
    "health_bar = widgets.IntProgress(value=70, min=0, max=100, description='❤️ Health:')\n",
    "\n",
    "# Buttons\n",
    "button1 = widgets.Button(description='Choice 1')\n",
    "button2 = widgets.Button(description='Choice 2')\n",
    "button3 = widgets.Button(description='Choice 3')\n",
    "\n",
    "def on_button1_clicked(b):\n",
    "    print(\"Choice 1 selected\")\n",
    "\n",
    "def on_button2_clicked(b):\n",
    "    print(\"Choice 2 selected\")\n",
    "\n",
    "def on_button3_clicked(b):\n",
    "    print(\"Choice 3 selected\")\n",
    "\n",
    "button1.on_click(on_button1_clicked)\n",
    "button2.on_click(on_button2_clicked)\n",
    "button3.on_click(on_button3_clicked)\n",
    "\n",
    "# Arrange buttons horizontally\n",
    "button_layout = widgets.HBox([button1, button2, button3])\n",
    "\n",
    "# Top level layout (progress bar, buttons, then the image overlay)\n",
    "ui = widgets.VBox([health_bar, button_layout, layout]) \n",
    "display(ui)\n"
   ]
  }
 ],
 "metadata": {
  "kernelspec": {
   "display_name": "Python 3",
   "language": "python",
   "name": "python3"
  },
  "language_info": {
   "codemirror_mode": {
    "name": "ipython",
    "version": 3
   },
   "file_extension": ".py",
   "mimetype": "text/x-python",
   "name": "python",
   "nbconvert_exporter": "python",
   "pygments_lexer": "ipython3",
   "version": "3.11.5"
  }
 },
 "nbformat": 4,
 "nbformat_minor": 2
}
