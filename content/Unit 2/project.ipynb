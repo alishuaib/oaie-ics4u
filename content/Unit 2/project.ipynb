{
 "cells": [
  {
   "cell_type": "markdown",
   "metadata": {},
   "source": [
    "# Project: Mini Adventure\n",
    "Follow along with the guided tutorials in Unit 2.2 to create a mini adventure game in python. This is a graded project so be sure to complete and submit all deliverables.  \n",
    "Deliverables:  \n",
    "- Functioning mini adventure game (From guided tutorials)\n",
    "- User documentation (See project specifications for details)\n",
    "- Reflection report (See project specifications for details)\n",
    "\n",
    "<details>\n",
    "<summary>💡 General Guide for Activities</summary>\n",
    "\n",
    "In this activity, you will solve a series of problems that involve using different data types and expressions in Python.\n",
    "\n",
    "Each problem will have a description, code cell and expected output.\n",
    "- Description: This will explain the task you need to perform.\n",
    "- Code cell: This is where you should write your solution.\n",
    "- Expected output: This will show the expected output that your code should produce if it is correct.\n",
    "\n",
    "If you get stuck, try clicking the Hint dropdown menu for some guidance. Remember to try solving the problem yourself.\n",
    "\n",
    "</details>\n",
    "<br>\n",
    "\n",
    "___"
   ]
  },
  {
   "cell_type": "code",
   "execution_count": null,
   "metadata": {},
   "outputs": [],
   "source": [
    "#Imports and Dependencies"
   ]
  },
  {
   "cell_type": "code",
   "execution_count": null,
   "metadata": {},
   "outputs": [],
   "source": [
    "#Code"
   ]
  }
 ],
 "metadata": {
  "kernelspec": {
   "display_name": "Python 3",
   "language": "python",
   "name": "python3"
  },
  "language_info": {
   "codemirror_mode": {
    "name": "ipython",
    "version": 3
   },
   "file_extension": ".py",
   "mimetype": "text/x-python",
   "name": "python",
   "nbconvert_exporter": "python",
   "pygments_lexer": "ipython3",
   "version": "3.11.5"
  }
 },
 "nbformat": 4,
 "nbformat_minor": 2
}
