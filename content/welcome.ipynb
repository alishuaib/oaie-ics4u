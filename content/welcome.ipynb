{
 "cells": [
  {
   "cell_type": "markdown",
   "metadata": {},
   "source": [
    "# Activity: Activity: Practice using Code Editor and Submission"
   ]
  },
  {
   "cell_type": "markdown",
   "metadata": {},
   "source": [
    "### You can use this notebook to write and run your code. Any code that you write will be autosaved. "
   ]
  },
  {
   "cell_type": "markdown",
   "metadata": {},
   "source": [
    "### For this Activity, all you need to do is to follow these steps:\n",
    "1. Create a new code cell by pressing B or clicking on + Icon from the toolbar.\n",
    "2. Copy the following code to the new cell.\n",
    "```python\n",
    "print(\"Hello, World!\")\n",
    "```\n",
    "3. Run the code by pressing Shift + Enter or clicking on the Play button from the toolbar."
   ]
  }
 ],
 "metadata": {
  "language_info": {
   "name": "python"
  }
 },
 "nbformat": 4,
 "nbformat_minor": 2
}
