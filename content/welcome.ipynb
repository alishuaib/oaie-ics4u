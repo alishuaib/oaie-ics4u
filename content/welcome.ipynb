{
 "cells": [
  {
   "cell_type": "markdown",
   "metadata": {},
   "source": [
    "# Activity: Practice using Code Editor and Submission\n",
    "\n",
    "<details>\n",
    "<summary>💡 General Guide for Activities</summary>\n",
    "\n",
    "In this activity, you will solve a series of problems that involve using different data types and expressions in Python.\n",
    "\n",
    "Each problem will have a description, code cell and expected output.\n",
    "- Description: This will explain the task you need to perform.\n",
    "- Code cell: This is where you should write your solution.\n",
    "- Expected output: This will show the expected output that your code should produce if it is correct.\n",
    "\n",
    "If you get stuck, try clicking the Hint dropdown menu for some guidance. Remember to try solving the problem yourself.\n",
    "\n",
    "</details>\n",
    "<br>\n",
    "\n",
    "___"
   ]
  },
  {
   "cell_type": "markdown",
   "metadata": {},
   "source": [
    "### You can use this notebook to write and run your code. Any code that you write will be autosaved. "
   ]
  },
  {
   "cell_type": "markdown",
   "metadata": {},
   "source": [
    "### For this Activity, all you need to do is to follow these steps:\n",
    "1. Create a new code cell by pressing B or clicking on + Icon from the toolbar.\n",
    "2. Copy the following code to the new cell.\n",
    "```python\n",
    "print(\"Hello, World!\")\n",
    "```\n",
    "3. Run the code by pressing Shift + Enter or clicking on the Play button from the toolbar."
   ]
  }
 ],
 "metadata": {
  "language_info": {
   "name": "python"
  }
 },
 "nbformat": 4,
 "nbformat_minor": 2
}
