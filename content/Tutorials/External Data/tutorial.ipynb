{
 "cells": [
  {
   "cell_type": "markdown",
   "metadata": {},
   "source": [
    "## Mini Activity - Working with Text and JSON files\n",
    "Follow the activity guide above to solve the following problems."
   ]
  },
  {
   "cell_type": "markdown",
   "metadata": {},
   "source": [
    "### User Registration\n",
    "\n",
    "Create a program that allows users to register by entering their name and email.   \n",
    "Store the information in a text file named \"users.txt\" using the following format:  \n",
    "\n",
    "`username,email`"
   ]
  },
  {
   "cell_type": "code",
   "execution_count": null,
   "metadata": {},
   "outputs": [],
   "source": []
  },
  {
   "cell_type": "markdown",
   "metadata": {},
   "source": [
    "### Product Catalog\n",
    "\n",
    "Write a script that reads product data from a JSON file (\"products.json\") and calculates the total price for all items.  \n",
    "The JSON file is already provided and looks like this:\n",
    "\n",
    "```json\n",
    "[\n",
    "  { \"name\": \"Shirt\", \"price\": 19.99 },\n",
    "  { \"name\": \"Jeans\", \"price\": 39.95 },\n",
    "  { \"name\": \"Hat\", \"price\": 14.50 }\n",
    "]\n",
    "```"
   ]
  },
  {
   "cell_type": "code",
   "execution_count": null,
   "metadata": {},
   "outputs": [],
   "source": [
    "#import json\n",
    "#\"products.json\" already exists, use open() to read it"
   ]
  }
 ],
 "metadata": {
  "language_info": {
   "name": "python"
  }
 },
 "nbformat": 4,
 "nbformat_minor": 2
}
