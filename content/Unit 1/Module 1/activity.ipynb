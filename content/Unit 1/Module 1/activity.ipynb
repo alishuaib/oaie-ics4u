{
 "cells": [
  {
   "cell_type": "markdown",
   "metadata": {},
   "source": [
    "# Activity: Data Types and Expressions\n",
    "Now that you have learned about data types and expressions, it is time to put your knowledge into practice. \n",
    "\n",
    "<details>\n",
    "<summary>💡 General Guide for Activities</summary>\n",
    "\n",
    "In this activity, you will solve a series of problems that involve using different data types and expressions in Python.\n",
    "\n",
    "Each problem will have a description, code cell and expected output.\n",
    "- Description: This will explain the task you need to perform.\n",
    "- Code cell: This is where you should write your solution.\n",
    "- Expected output: This will show the expected output that your code should produce if it is correct.\n",
    "\n",
    "If you get stuck, try clicking the Hint dropdown menu for some guidance. Remember to try solving the problem yourself.\n",
    "\n",
    "</details>\n",
    "<br>\n",
    "\n",
    "___"
   ]
  },
  {
   "cell_type": "markdown",
   "metadata": {},
   "source": [
    "## Universal Converter\n",
    "\n",
    "You're tasked with building a simple program that converts kilometers to miles and vice versa.\n",
    "The formula for converting kilometers to miles is: `miles = kilometers * 0.621371` or `kilometers = miles / 0.621371`.\n",
    "\n",
    "Complete the following tasks:\n",
    "- Use `input()` to get the user's choice of conversion (kilometer or miles).\n",
    "- Use `input()` to get the value to convert.\n",
    "- Use type conversion to convert the string input to a float.\n",
    "- Use an `if` statement to check the user's choice and perform the calculation.\n",
    "- Display the result to the user using `print()`.\n",
    "\n",
    "<details>\n",
    "<summary style=\"user-select:none\">💭 Activity Hint</summary>\n",
    "<br>\n",
    "\n",
    "> Breaking down the problem, our first goal is to get the user's input.\n",
    "> ```python\n",
    "> unit = input(\"Enter 'km' for kilometers to miles or 'mi' for miles to kilometers: \")\n",
    "> value = input(\"Enter the value to convert: \")\n",
    "> ```\n",
    "\n",
    "> Next, we need to convert the string input for `value` to a float.\n",
    "> ```python\n",
    "> value = float(value)\n",
    "> ```\n",
    "\n",
    "> Now, we can use an `if` statement to check the user's choice and perform the calculation.\n",
    "> We can also display the result in the `if` statement.\n",
    "> ```python\n",
    "> if unit == 'km':\n",
    ">    convert_to_miles = value * 0.621371\n",
    ">    print(value+\" kilometers is equal to \"+convert_to_miles+\" miles.\")\n",
    "> elif unit == 'mi':\n",
    ">    convert_to_kilometers = value / 0.621371\n",
    ">    print(value+\" miles is equal to \"+convert_to_kilometers+\" kilometers.\")\n",
    "> else:\n",
    ">     print(\"Invalid input. Please enter 'km' or 'mi'.\")\n",
    "> ```\n",
    "\n",
    "</details>"
   ]
  },
  {
   "cell_type": "code",
   "execution_count": null,
   "metadata": {},
   "outputs": [],
   "source": []
  },
  {
   "cell_type": "markdown",
   "metadata": {},
   "source": [
    "```console\n",
    "8 kilometers is equal to 4.97097 miles.\n",
    "```"
   ]
  },
  {
   "cell_type": "markdown",
   "metadata": {},
   "source": [
    "___"
   ]
  },
  {
   "cell_type": "markdown",
   "metadata": {},
   "source": [
    "## The Coin Challenge\n",
    "\n",
    "As a cashier, you need to provide the correct amount of change to customers using the fewest coins possible.\n",
    "\n",
    "You have unlimited amount of coins in the following values: 1, 5, 10, 25.\n",
    "\n",
    "Write a program that converts the given amount of cents to the fewest number of coins.\n",
    "\n",
    "Complete the following tasks:\n",
    "- Use `%` operator to calculate the remainder for each coin values (1, 5, 10, 25) (Hint: Start from the highest value).\n",
    "- Store the number of coins for each value in separate variables.\n",
    "- Display the number of coins for each value using `print()`. (Hint: You can use f-string to format and `\\n` for newline)\n",
    "\n",
    "<details>\n",
    "<summary  style=\"user-select:none\">💭 Activity Hint</summary>\n",
    "<br>\n",
    "\n",
    "> To solve this problem, we need to calculate the number of coins for each value.\n",
    "> We can start by calculating the number of quarters (25 cents).\n",
    "> ```python\n",
    "> quarters = cents // 25\n",
    "> ```\n",
    "\n",
    "> Next, we can calculate the number of dimes (10 cents) using the remainder of the previous calculation.\n",
    "> ```python\n",
    "> dimes = (cents % 25) // 10\n",
    "> ```\n",
    "\n",
    "> Continue this process for nickels (5 cents) and pennies (1 cent).\n",
    "> ```python\n",
    "> nickels = ((cents % 25) % 10) // 5\n",
    "> pennies = ((cents % 25) % 10) % 5\n",
    "> ```\n",
    "\n",
    "> Finally, display the number of coins for each value using `print()`.\n",
    "> ```python\n",
    "> print(f\"Quarters: {quarters}\\nDimes: {dimes}\\nNickels: {nickels}\\nPennies: {pennies}\")\n",
    "> ```\n",
    "\n",
    "</details>"
   ]
  },
  {
   "cell_type": "code",
   "execution_count": null,
   "metadata": {},
   "outputs": [],
   "source": [
    "cents = 87\n"
   ]
  },
  {
   "cell_type": "markdown",
   "metadata": {},
   "source": [
    "```console\n",
    "Quarters: 3\n",
    "Dimes: 1\n",
    "Nickels: 1\n",
    "Pennies: 2\n",
    "```"
   ]
  },
  {
   "cell_type": "markdown",
   "metadata": {},
   "source": [
    "___"
   ]
  },
  {
   "cell_type": "markdown",
   "metadata": {},
   "source": [
    "## Grocery List\n",
    "\n",
    "You're tasked with creating a program that lets the used add items to a grocery list.\n",
    "\n",
    "Your program must have the following features:\n",
    "- A list to store the grocery items and quantity.\n",
    "- Allow to continue adding items until the user enters 'done'.\n",
    "\n",
    "Complete the following tasks:\n",
    "- Create an empty list to store the grocery items (Hint: use nested lists to store item and quantity).\n",
    "- Use a `while` loop to keep asking the user for items until they enter 'done'.\n",
    "- Use `input()` to get the item and quantity from the user.\n",
    "- Use an `if` statement to check if the user entered 'done' and break the loop.\n",
    "- Append the item and quantity to the grocery list.\n",
    "- Display the grocery list using `print()` in a `for` loop.\n",
    "\n",
    "<details>\n",
    "<summary  style=\"user-select:none\">💭 Activity Hint</summary>\n",
    "<br>\n",
    "\n",
    "> To solve this problem, we need to create an empty list to store the grocery items.\n",
    "> ```python\n",
    "> grocery_list = []\n",
    "> ```\n",
    "\n",
    "> Next, we can use a `while` loop to keep asking the user for items until they enter 'done'.\n",
    "> ```python\n",
    "> while True:\n",
    ">     item = input(\"Enter the item to add to the grocery list (or 'done' to finish): \")\n",
    ">     if item == 'done':\n",
    ">         break\n",
    ">     quantity = input(\"Enter the quantity: \")\n",
    ">     grocery_list.append([item, quantity])\n",
    "> ```\n",
    "\n",
    "> Finally, we can display the grocery list using a `for` loop.\n",
    "> ```python\n",
    "> for item in grocery_list:\n",
    ">     print(f\"{item[1]} {item[0]}\")\n",
    "> ```\n",
    "\n",
    "</details>"
   ]
  },
  {
   "cell_type": "code",
   "execution_count": null,
   "metadata": {},
   "outputs": [],
   "source": []
  },
  {
   "cell_type": "markdown",
   "metadata": {},
   "source": [
    "```console\n",
    "Apples 5x\n",
    "Oranges 3x\n",
    "Bananas 2x\n",
    "```"
   ]
  },
  {
   "cell_type": "markdown",
   "metadata": {},
   "source": [
    "<center> \n",
    "<h2>Activity Complete</h2>\n",
    "Download and submit this notebook on Brightspace D2L using the button below.\n",
    "</center>"
   ]
  }
 ],
 "metadata": {
  "language_info": {
   "name": "python"
  }
 },
 "nbformat": 4,
 "nbformat_minor": 2
}
