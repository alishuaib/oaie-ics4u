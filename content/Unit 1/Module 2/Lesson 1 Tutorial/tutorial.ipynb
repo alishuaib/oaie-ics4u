{
 "cells": [
  {
   "cell_type": "markdown",
   "metadata": {},
   "source": [
    "## Tutorial - Creating modules in Python\n",
    "We need to calculate the area of a circle and volume of a cylinder for the following 4 problems.\n",
    "- Problem 1: Calculate the area of a circle with radius 5 units.\n",
    "- Problem 2: Calculate the area of a circle with radius 7 units.\n",
    "- Problem 3: Calculate the volume of a cylinder with radius 5 units and height 10 units.\n",
    "- Problem 4: Calculate the volume of a cylinder with radius 7 units and height 10 units.\n",
    "\n",
    "To solve the above problems, we will create a file named `math_helpers.py` which will contain two functions `calculate_area` and `calculate_volume`. We will import this module in our main program and use these functions to solve the above problems."
   ]
  },
  {
   "cell_type": "markdown",
   "metadata": {},
   "source": [
    "### How to create a Python file\n",
    "In the file browser on the left, "
   ]
  },
  {
   "cell_type": "code",
   "execution_count": null,
   "metadata": {},
   "outputs": [],
   "source": [
    "#import math_helpers.py\n",
    "\n",
    "#problem_1 = math_helpers.calculate_area(5)\n",
    "#problem_2 =\n",
    "#problem_3 = math_helpers.calculate_volume(5,10)\n",
    "#problem_4 ="
   ]
  }
 ],
 "metadata": {
  "language_info": {
   "name": "python"
  }
 },
 "nbformat": 4,
 "nbformat_minor": 2
}
